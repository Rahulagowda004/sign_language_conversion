{
 "cells": [
  {
   "cell_type": "code",
   "execution_count": 1,
   "metadata": {},
   "outputs": [
    {
     "data": {
      "text/plain": [
       "'d:\\\\sign_language_conversion\\\\research'"
      ]
     },
     "execution_count": 1,
     "metadata": {},
     "output_type": "execute_result"
    }
   ],
   "source": [
    "%pwd"
   ]
  },
  {
   "cell_type": "code",
   "execution_count": 2,
   "metadata": {},
   "outputs": [],
   "source": [
    "import os \n",
    "os.chdir(\"../\")"
   ]
  },
  {
   "cell_type": "code",
   "execution_count": 3,
   "metadata": {},
   "outputs": [
    {
     "data": {
      "text/plain": [
       "'d:\\\\sign_language_conversion'"
      ]
     },
     "execution_count": 3,
     "metadata": {},
     "output_type": "execute_result"
    }
   ],
   "source": [
    "%pwd"
   ]
  },
  {
   "cell_type": "code",
   "execution_count": 4,
   "metadata": {},
   "outputs": [],
   "source": [
    "from dataclasses import dataclass\n",
    "from pathlib import Path\n",
    "\n",
    "@dataclass(frozen=True)\n",
    "class Preparedataset:\n",
    "    root_dir: Path\n",
    "    dataset: Path"
   ]
  },
  {
   "cell_type": "code",
   "execution_count": 5,
   "metadata": {},
   "outputs": [],
   "source": [
    "from sign_language_conversion.constants import *\n",
    "from sign_language_conversion.utils.common import read_yaml, create_directories"
   ]
  },
  {
   "cell_type": "code",
   "execution_count": 6,
   "metadata": {},
   "outputs": [],
   "source": [
    "class ConfigurationManager:\n",
    "    def __init__(\n",
    "        self,\n",
    "        config_filepath = CONFIG_FILE_PATH,\n",
    "        params_filepath = PARAMS_FILE_PATH):\n",
    "\n",
    "        self.config = read_yaml(config_filepath)\n",
    "        self.params = read_yaml(params_filepath)\n",
    "\n",
    "        create_directories([self.config.artifacts_root])\n",
    "\n",
    "    def get_prepare_dataset(self) -> Preparedataset:\n",
    "        config = self.config.prepare_dataset\n",
    "\n",
    "        create_directories([config.root_dir])\n",
    "\n",
    "        prepare_dataset_pickle = Preparedataset(\n",
    "            root_dir=Path(config.root_dir),\n",
    "            dataset=Path(config.dataset_path)  # Assuming 'dataset_path' is correct\n",
    "        )\n",
    "\n",
    "        return prepare_dataset_pickle"
   ]
  },
  {
   "cell_type": "code",
   "execution_count": 7,
   "metadata": {},
   "outputs": [],
   "source": [
    "import os\n",
    "import pickle\n",
    "import mediapipe as mp\n",
    "import cv2"
   ]
  },
  {
   "cell_type": "code",
   "execution_count": 8,
   "metadata": {},
   "outputs": [],
   "source": [
    "class Prepare_dataset:\n",
    "    def __init__(self, config: Preparedataset):\n",
    "        self.config = config\n",
    "\n",
    "    @staticmethod\n",
    "    def _prepare_full_model(data_dir):\n",
    "        mp_hands = mp.solutions.hands\n",
    "\n",
    "        hands = mp_hands.Hands(static_image_mode=True, min_detection_confidence=0.3)\n",
    "\n",
    "        data = []\n",
    "        labels = []\n",
    "        for dir_ in os.listdir(data_dir):\n",
    "            for img_path in os.listdir(os.path.join(data_dir, dir_)):\n",
    "                data_aux = []\n",
    "\n",
    "                x_ = []\n",
    "                y_ = []\n",
    "\n",
    "                img = cv2.imread(os.path.join(data_dir, dir_, img_path))\n",
    "                img_rgb = cv2.cvtColor(img, cv2.COLOR_BGR2RGB)\n",
    "\n",
    "                results = hands.process(img_rgb)\n",
    "                if results.multi_hand_landmarks:\n",
    "                    for hand_landmarks in results.multi_hand_landmarks:\n",
    "                        for i in range(len(hand_landmarks.landmark)):\n",
    "                            x = hand_landmarks.landmark[i].x\n",
    "                            y = hand_landmarks.landmark[i].y\n",
    "\n",
    "                            x_.append(x)\n",
    "                            y_.append(y)\n",
    "\n",
    "                        for i in range(len(hand_landmarks.landmark)):\n",
    "                            x = hand_landmarks.landmark[i].x\n",
    "                            y = hand_landmarks.landmark[i].y\n",
    "                            data_aux.append(x - min(x_))\n",
    "                            data_aux.append(y - min(y_))\n",
    "\n",
    "                    data.append(data_aux)\n",
    "                    labels.append(dir_)\n",
    "\n",
    "        return {'data': data, 'labels': labels}\n",
    "\n",
    "    def save_data(self):\n",
    "        data = self._prepare_full_model(self.config.dataset)\n",
    "\n",
    "        with open(self.config.root_dir / 'data.pickle', 'wb') as f:\n",
    "            pickle.dump(data, f)"
   ]
  },
  {
   "cell_type": "code",
   "execution_count": 9,
   "metadata": {},
   "outputs": [
    {
     "name": "stdout",
     "output_type": "stream",
     "text": [
      "[2024-05-25 14:32:34,728: INFO: common: yaml file: config\\config.yaml loaded successfully]\n",
      "[2024-05-25 14:32:34,732: INFO: common: yaml file: params.yaml loaded successfully]\n",
      "[2024-05-25 14:32:34,734: INFO: common: created directory at: artifacts]\n",
      "[2024-05-25 14:32:34,735: INFO: common: created directory at: artifacts/prepare_dataset/root_dir]\n"
     ]
    },
    {
     "ename": "error",
     "evalue": "OpenCV(4.9.0) D:\\a\\opencv-python\\opencv-python\\opencv\\modules\\imgproc\\src\\color.cpp:196: error: (-215:Assertion failed) !_src.empty() in function 'cv::cvtColor'\n",
     "output_type": "error",
     "traceback": [
      "\u001b[1;31m---------------------------------------------------------------------------\u001b[0m",
      "\u001b[1;31merror\u001b[0m                                     Traceback (most recent call last)",
      "Cell \u001b[1;32mIn[9], line 7\u001b[0m\n\u001b[0;32m      5\u001b[0m     prepare_dataset\u001b[38;5;241m.\u001b[39msave_data()\n\u001b[0;32m      6\u001b[0m \u001b[38;5;28;01mexcept\u001b[39;00m \u001b[38;5;167;01mException\u001b[39;00m \u001b[38;5;28;01mas\u001b[39;00m e:\n\u001b[1;32m----> 7\u001b[0m     \u001b[38;5;28;01mraise\u001b[39;00m e\n",
      "Cell \u001b[1;32mIn[9], line 5\u001b[0m\n\u001b[0;32m      3\u001b[0m     prepare_dataset_config \u001b[38;5;241m=\u001b[39m config_manager\u001b[38;5;241m.\u001b[39mget_prepare_dataset()\n\u001b[0;32m      4\u001b[0m     prepare_dataset \u001b[38;5;241m=\u001b[39m Prepare_dataset(config\u001b[38;5;241m=\u001b[39mprepare_dataset_config)\n\u001b[1;32m----> 5\u001b[0m     \u001b[43mprepare_dataset\u001b[49m\u001b[38;5;241;43m.\u001b[39;49m\u001b[43msave_data\u001b[49m\u001b[43m(\u001b[49m\u001b[43m)\u001b[49m\n\u001b[0;32m      6\u001b[0m \u001b[38;5;28;01mexcept\u001b[39;00m \u001b[38;5;167;01mException\u001b[39;00m \u001b[38;5;28;01mas\u001b[39;00m e:\n\u001b[0;32m      7\u001b[0m     \u001b[38;5;28;01mraise\u001b[39;00m e\n",
      "Cell \u001b[1;32mIn[8], line 45\u001b[0m, in \u001b[0;36mPrepare_dataset.save_data\u001b[1;34m(self)\u001b[0m\n\u001b[0;32m     44\u001b[0m \u001b[38;5;28;01mdef\u001b[39;00m \u001b[38;5;21msave_data\u001b[39m(\u001b[38;5;28mself\u001b[39m):\n\u001b[1;32m---> 45\u001b[0m     data \u001b[38;5;241m=\u001b[39m \u001b[38;5;28;43mself\u001b[39;49m\u001b[38;5;241;43m.\u001b[39;49m\u001b[43m_prepare_full_model\u001b[49m\u001b[43m(\u001b[49m\u001b[38;5;28;43mself\u001b[39;49m\u001b[38;5;241;43m.\u001b[39;49m\u001b[43mconfig\u001b[49m\u001b[38;5;241;43m.\u001b[39;49m\u001b[43mdataset\u001b[49m\u001b[43m)\u001b[49m\n\u001b[0;32m     47\u001b[0m     \u001b[38;5;28;01mwith\u001b[39;00m \u001b[38;5;28mopen\u001b[39m(\u001b[38;5;28mself\u001b[39m\u001b[38;5;241m.\u001b[39mconfig\u001b[38;5;241m.\u001b[39mroot_dir \u001b[38;5;241m/\u001b[39m \u001b[38;5;124m'\u001b[39m\u001b[38;5;124mdata.pickle\u001b[39m\u001b[38;5;124m'\u001b[39m, \u001b[38;5;124m'\u001b[39m\u001b[38;5;124mwb\u001b[39m\u001b[38;5;124m'\u001b[39m) \u001b[38;5;28;01mas\u001b[39;00m f:\n\u001b[0;32m     48\u001b[0m         pickle\u001b[38;5;241m.\u001b[39mdump(data, f)\n",
      "Cell \u001b[1;32mIn[8], line 21\u001b[0m, in \u001b[0;36mPrepare_dataset._prepare_full_model\u001b[1;34m(data_dir)\u001b[0m\n\u001b[0;32m     18\u001b[0m y_ \u001b[38;5;241m=\u001b[39m []\n\u001b[0;32m     20\u001b[0m img \u001b[38;5;241m=\u001b[39m cv2\u001b[38;5;241m.\u001b[39mimread(os\u001b[38;5;241m.\u001b[39mpath\u001b[38;5;241m.\u001b[39mjoin(data_dir, dir_, img_path))\n\u001b[1;32m---> 21\u001b[0m img_rgb \u001b[38;5;241m=\u001b[39m \u001b[43mcv2\u001b[49m\u001b[38;5;241;43m.\u001b[39;49m\u001b[43mcvtColor\u001b[49m\u001b[43m(\u001b[49m\u001b[43mimg\u001b[49m\u001b[43m,\u001b[49m\u001b[43m \u001b[49m\u001b[43mcv2\u001b[49m\u001b[38;5;241;43m.\u001b[39;49m\u001b[43mCOLOR_BGR2RGB\u001b[49m\u001b[43m)\u001b[49m\n\u001b[0;32m     23\u001b[0m results \u001b[38;5;241m=\u001b[39m hands\u001b[38;5;241m.\u001b[39mprocess(img_rgb)\n\u001b[0;32m     24\u001b[0m \u001b[38;5;28;01mif\u001b[39;00m results\u001b[38;5;241m.\u001b[39mmulti_hand_landmarks:\n",
      "\u001b[1;31merror\u001b[0m: OpenCV(4.9.0) D:\\a\\opencv-python\\opencv-python\\opencv\\modules\\imgproc\\src\\color.cpp:196: error: (-215:Assertion failed) !_src.empty() in function 'cv::cvtColor'\n"
     ]
    }
   ],
   "source": [
    "try:\n",
    "    config_manager = ConfigurationManager()\n",
    "    prepare_dataset_config = config_manager.get_prepare_dataset()\n",
    "    prepare_dataset = Prepare_dataset(config=prepare_dataset_config)\n",
    "    prepare_dataset.save_data()\n",
    "except Exception as e:\n",
    "    raise e"
   ]
  }
 ],
 "metadata": {
  "kernelspec": {
   "display_name": ".venv",
   "language": "python",
   "name": "python3"
  },
  "language_info": {
   "codemirror_mode": {
    "name": "ipython",
    "version": 3
   },
   "file_extension": ".py",
   "mimetype": "text/x-python",
   "name": "python",
   "nbconvert_exporter": "python",
   "pygments_lexer": "ipython3",
   "version": "3.11.9"
  }
 },
 "nbformat": 4,
 "nbformat_minor": 2
}
