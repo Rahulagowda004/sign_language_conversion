{
 "cells": [
  {
   "cell_type": "code",
   "execution_count": 1,
   "metadata": {},
   "outputs": [
    {
     "data": {
      "text/plain": [
       "'d:\\\\sign_language_conversion\\\\research'"
      ]
     },
     "execution_count": 1,
     "metadata": {},
     "output_type": "execute_result"
    }
   ],
   "source": [
    "%pwd"
   ]
  },
  {
   "cell_type": "code",
   "execution_count": 2,
   "metadata": {},
   "outputs": [],
   "source": [
    "import os \n",
    "os.chdir(\"../\")"
   ]
  },
  {
   "cell_type": "code",
   "execution_count": 3,
   "metadata": {},
   "outputs": [
    {
     "data": {
      "text/plain": [
       "'d:\\\\sign_language_conversion'"
      ]
     },
     "execution_count": 3,
     "metadata": {},
     "output_type": "execute_result"
    }
   ],
   "source": [
    "%pwd"
   ]
  },
  {
   "cell_type": "code",
   "execution_count": 4,
   "metadata": {},
   "outputs": [],
   "source": [
    "from dataclasses import dataclass\n",
    "from pathlib import Path\n",
    "\n",
    "@dataclass(frozen=True)\n",
    "class Preparedataset:\n",
    "    root_dir: Path\n",
    "    dataset: Path"
   ]
  },
  {
   "cell_type": "code",
   "execution_count": 5,
   "metadata": {},
   "outputs": [],
   "source": [
    "from sign_language_conversion.constants import *\n",
    "from sign_language_conversion.utils.common import read_yaml, create_directories"
   ]
  },
  {
   "cell_type": "code",
   "execution_count": 6,
   "metadata": {},
   "outputs": [],
   "source": [
    "class ConfigurationManager:\n",
    "    def __init__(\n",
    "        self,\n",
    "        config_filepath = CONFIG_FILE_PATH,\n",
    "        params_filepath = PARAMS_FILE_PATH):\n",
    "\n",
    "        self.config = read_yaml(config_filepath)\n",
    "        self.params = read_yaml(params_filepath)\n",
    "\n",
    "        create_directories([self.config.artifacts_root])\n",
    "\n",
    "    def get_prepare_dataset(self) -> Preparedataset:\n",
    "        config = self.config.prepare_dataset\n",
    "\n",
    "        create_directories([config.root_dir])\n",
    "\n",
    "        prepare_dataset_pickle = Preparedataset(\n",
    "            root_dir=Path(config.root_dir),\n",
    "            dataset=Path(config.dataset_path)\n",
    "        )\n",
    "\n",
    "        return prepare_dataset_pickle"
   ]
  },
  {
   "cell_type": "code",
   "execution_count": 7,
   "metadata": {},
   "outputs": [],
   "source": [
    "import os\n",
    "import pickle\n",
    "import mediapipe as mp\n",
    "import cv2"
   ]
  },
  {
   "cell_type": "code",
   "execution_count": 8,
   "metadata": {},
   "outputs": [],
   "source": [
    "class Prepare_dataset:\n",
    "    def __init__(self, config: Preparedataset):\n",
    "        self.config = config\n",
    "\n",
    "    @staticmethod\n",
    "    def _prepare_dataset(data_dir):\n",
    "        mp_hands = mp.solutions.hands\n",
    "\n",
    "        hands = mp_hands.Hands(static_image_mode=True, min_detection_confidence=0.3)\n",
    "\n",
    "        data = []\n",
    "        labels = []\n",
    "        for dir_ in os.listdir(data_dir):\n",
    "            for img_path in os.listdir(os.path.join(data_dir, dir_)):\n",
    "                data_aux = []\n",
    "\n",
    "                x_ = []\n",
    "                y_ = []\n",
    "\n",
    "                img = cv2.imread(os.path.join(data_dir, dir_, img_path))\n",
    "                img_rgb = cv2.cvtColor(img, cv2.COLOR_BGR2RGB)\n",
    "\n",
    "                results = hands.process(img_rgb)\n",
    "                if results.multi_hand_landmarks:\n",
    "                    for hand_landmarks in results.multi_hand_landmarks:\n",
    "                        for i in range(len(hand_landmarks.landmark)):\n",
    "                            x = hand_landmarks.landmark[i].x\n",
    "                            y = hand_landmarks.landmark[i].y\n",
    "\n",
    "                            x_.append(x)\n",
    "                            y_.append(y)\n",
    "\n",
    "                        for i in range(len(hand_landmarks.landmark)):\n",
    "                            x = hand_landmarks.landmark[i].x\n",
    "                            y = hand_landmarks.landmark[i].y\n",
    "                            data_aux.append(x - min(x_))\n",
    "                            data_aux.append(y - min(y_))\n",
    "\n",
    "                    data.append(data_aux)\n",
    "                    labels.append(dir_)\n",
    "\n",
    "        return {'data': data, 'labels': labels}\n",
    "\n",
    "    def save_data(self):\n",
    "        data = self._prepare_dataset(self.config.dataset)\n",
    "\n",
    "        with open(self.config.root_dir / 'data.pickle', 'wb') as f:\n",
    "            pickle.dump(data, f)"
   ]
  },
  {
   "cell_type": "code",
   "execution_count": 9,
   "metadata": {},
   "outputs": [
    {
     "name": "stdout",
     "output_type": "stream",
     "text": [
      "[2024-05-25 14:46:02,338: INFO: common: yaml file: config\\config.yaml loaded successfully]\n",
      "[2024-05-25 14:46:02,343: INFO: common: yaml file: params.yaml loaded successfully]\n",
      "[2024-05-25 14:46:02,345: INFO: common: created directory at: artifacts]\n",
      "[2024-05-25 14:46:02,346: INFO: common: created directory at: artifacts/prepare_dataset/root_dir]\n"
     ]
    }
   ],
   "source": [
    "try:\n",
    "    config_manager = ConfigurationManager()\n",
    "    prepare_dataset_config = config_manager.get_prepare_dataset()\n",
    "    prepare_dataset = Prepare_dataset(config=prepare_dataset_config)\n",
    "    prepare_dataset.save_data()\n",
    "except Exception as e:\n",
    "    raise e"
   ]
  }
 ],
 "metadata": {
  "kernelspec": {
   "display_name": ".venv",
   "language": "python",
   "name": "python3"
  },
  "language_info": {
   "codemirror_mode": {
    "name": "ipython",
    "version": 3
   },
   "file_extension": ".py",
   "mimetype": "text/x-python",
   "name": "python",
   "nbconvert_exporter": "python",
   "pygments_lexer": "ipython3",
   "version": "3.11.9"
  }
 },
 "nbformat": 4,
 "nbformat_minor": 2
}
