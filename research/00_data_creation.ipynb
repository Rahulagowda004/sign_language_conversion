{
 "cells": [
  {
   "cell_type": "code",
   "execution_count": 1,
   "metadata": {},
   "outputs": [],
   "source": [
    "import os "
   ]
  },
  {
   "cell_type": "code",
   "execution_count": 2,
   "metadata": {},
   "outputs": [
    {
     "data": {
      "text/plain": [
       "'d:\\\\sign_language_conversion\\\\research'"
      ]
     },
     "execution_count": 2,
     "metadata": {},
     "output_type": "execute_result"
    }
   ],
   "source": [
    "%pwd"
   ]
  },
  {
   "cell_type": "code",
   "execution_count": 3,
   "metadata": {},
   "outputs": [],
   "source": [
    "os.chdir(\"../\")"
   ]
  },
  {
   "cell_type": "code",
   "execution_count": 4,
   "metadata": {},
   "outputs": [
    {
     "data": {
      "text/plain": [
       "'d:\\\\sign_language_conversion'"
      ]
     },
     "execution_count": 4,
     "metadata": {},
     "output_type": "execute_result"
    }
   ],
   "source": [
    "%pwd"
   ]
  },
  {
   "cell_type": "code",
   "execution_count": 5,
   "metadata": {},
   "outputs": [],
   "source": [
    "from dataclasses import dataclass\n",
    "from pathlib import Path\n",
    "\n",
    "\n",
    "@dataclass(frozen=True)\n",
    "class DataCreation:\n",
    "    root_dir: Path\n",
    "    local_data_file: Path\n",
    "    number_of_classes: int"
   ]
  },
  {
   "cell_type": "code",
   "execution_count": 6,
   "metadata": {},
   "outputs": [],
   "source": [
    "from sign_language_conversion.constants import *\n",
    "from sign_language_conversion.utils.common import read_yaml, create_directories"
   ]
  },
  {
   "cell_type": "code",
   "execution_count": 7,
   "metadata": {},
   "outputs": [],
   "source": [
    "class ConfigurationManager:\n",
    "    def __init__(self, config_filepath=CONFIG_FILE_PATH, params_filepath=PARAMS_FILE_PATH):\n",
    "        self.config = read_yaml(config_filepath)\n",
    "        self.params = read_yaml(params_filepath)\n",
    "\n",
    "        create_directories([self.config.artifacts_root])\n",
    "\n",
    "    def get_creation(self) -> DataCreation:\n",
    "        config = self.config.data_creation\n",
    "        create_directories([config.root_dir])\n",
    "\n",
    "        # Check if 'no_of_classes' exists in params\n",
    "        if 'no_of_classes' not in self.params:\n",
    "            raise KeyError(\"The key 'no_of_classes' is missing from params file.\")\n",
    "\n",
    "        data_creation_config = DataCreation(\n",
    "            root_dir=config.root_dir,\n",
    "            local_data_file=config.raw_dataset,\n",
    "            number_of_classes=self.params['no_of_classes']\n",
    "        )\n",
    "        return data_creation_config\n"
   ]
  },
  {
   "cell_type": "code",
   "execution_count": 8,
   "metadata": {},
   "outputs": [],
   "source": [
    "import os\n",
    "import cv2\n",
    "from sign_language_conversion import logger\n",
    "from sign_language_conversion.utils.common import get_size"
   ]
  },
  {
   "cell_type": "code",
   "execution_count": 9,
   "metadata": {},
   "outputs": [],
   "source": [
    "class Data_Creation:\n",
    "    def __init__(self, config: DataCreation):\n",
    "        self.config = config\n",
    "        \n",
    "    def capture_data(self):\n",
    "        DATA_DIR = self.config.local_data_file\n",
    "        number_of_classes = self.config.number_of_classes\n",
    "        dataset_size = 100\n",
    "\n",
    "        if not os.path.exists(DATA_DIR):\n",
    "            os.makedirs(DATA_DIR)\n",
    "\n",
    "        def find_working_camera_index():\n",
    "            for index in range(5):\n",
    "                cap = cv2.VideoCapture(index)\n",
    "                if cap.isOpened():\n",
    "                    cap.release()\n",
    "                    return index\n",
    "            return None\n",
    "\n",
    "        camera_index = find_working_camera_index()\n",
    "        if camera_index is None:\n",
    "            print(\"Error: Could not find a working camera.\")\n",
    "            return\n",
    "\n",
    "        cap = cv2.VideoCapture(camera_index)\n",
    "        if not cap.isOpened():\n",
    "            print(\"Error: Could not open video device.\")\n",
    "            return\n",
    "\n",
    "        for j in range(number_of_classes):\n",
    "            class_dir = os.path.join(DATA_DIR, str(j))\n",
    "            if not os.path.exists(class_dir):\n",
    "                os.makedirs(class_dir)\n",
    "\n",
    "            print(f'Collecting data for class {j}')\n",
    "\n",
    "            while True:\n",
    "                ret, frame = cap.read()\n",
    "                if not ret:\n",
    "                    print(\"Error: Failed to capture image.\")\n",
    "                    break\n",
    "\n",
    "                cv2.putText(frame, 'Ready? Press \"Q\" ! :)', (100, 50), cv2.FONT_HERSHEY_SIMPLEX, 1.3, (0, 255, 0), 3, cv2.LINE_AA)\n",
    "                cv2.imshow('frame', frame)\n",
    "                if cv2.waitKey(25) == ord('q'):\n",
    "                    break\n",
    "\n",
    "            counter = 0\n",
    "            while counter < dataset_size:\n",
    "                ret, frame = cap.read()\n",
    "                if not ret:\n",
    "                    print(\"Error: Failed to capture image.\")\n",
    "                    break\n",
    "\n",
    "                cv2.imshow('frame', frame)\n",
    "                cv2.waitKey(20)\n",
    "                cv2.imwrite(os.path.join(class_dir, f'{counter}.jpg'), frame)\n",
    "                counter += 1\n",
    "\n",
    "                if cv2.waitKey(1) & 0xFF == ord('s'):\n",
    "                    break\n",
    "\n",
    "        cap.release()\n",
    "        cv2.destroyAllWindows()\n",
    "        cv2.waitKey(5)"
   ]
  },
  {
   "cell_type": "code",
   "execution_count": 10,
   "metadata": {},
   "outputs": [
    {
     "name": "stdout",
     "output_type": "stream",
     "text": [
      "[2024-06-03 12:09:28,134: INFO: common: yaml file: config\\config.yaml loaded successfully]\n",
      "[2024-06-03 12:09:28,136: INFO: common: yaml file: params.yaml loaded successfully]\n",
      "[2024-06-03 12:09:28,138: INFO: common: created directory at: artifacts]\n",
      "[2024-06-03 12:09:28,139: INFO: common: created directory at: artifacts/data_creation]\n",
      "Collecting data for class 0\n"
     ]
    }
   ],
   "source": [
    "try:\n",
    "    config = ConfigurationManager()\n",
    "    data_creation_config = config.get_creation()\n",
    "    data_creator = Data_Creation(config=data_creation_config)\n",
    "    data_creator.capture_data()\n",
    "except Exception as e:\n",
    "    raise e"
   ]
  }
 ],
 "metadata": {
  "kernelspec": {
   "display_name": ".venv",
   "language": "python",
   "name": "python3"
  },
  "language_info": {
   "codemirror_mode": {
    "name": "ipython",
    "version": 3
   },
   "file_extension": ".py",
   "mimetype": "text/x-python",
   "name": "python",
   "nbconvert_exporter": "python",
   "pygments_lexer": "ipython3",
   "version": "3.12.3"
  }
 },
 "nbformat": 4,
 "nbformat_minor": 2
}
