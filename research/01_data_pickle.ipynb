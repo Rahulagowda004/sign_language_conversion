{
 "cells": [
  {
   "cell_type": "code",
   "execution_count": 2,
   "metadata": {},
   "outputs": [
    {
     "data": {
      "text/plain": [
       "'d:\\\\sign_language_conversion\\\\research'"
      ]
     },
     "execution_count": 2,
     "metadata": {},
     "output_type": "execute_result"
    }
   ],
   "source": [
    "%pwd"
   ]
  },
  {
   "cell_type": "code",
   "execution_count": 3,
   "metadata": {},
   "outputs": [],
   "source": [
    "import os \n",
    "os.chdir(\"../\")"
   ]
  },
  {
   "cell_type": "code",
   "execution_count": 4,
   "metadata": {},
   "outputs": [
    {
     "data": {
      "text/plain": [
       "'d:\\\\sign_language_conversion'"
      ]
     },
     "execution_count": 4,
     "metadata": {},
     "output_type": "execute_result"
    }
   ],
   "source": [
    "%pwd"
   ]
  },
  {
   "cell_type": "code",
   "execution_count": 5,
   "metadata": {},
   "outputs": [],
   "source": [
    "from dataclasses import dataclass\n",
    "from pathlib import Path\n",
    "\n",
    "@dataclass(frozen=True)\n",
    "class DataPickle:\n",
    "    root_dir: Path\n",
    "    data_raw: Path\n",
    "    data_pickle: Path"
   ]
  },
  {
   "cell_type": "code",
   "execution_count": 6,
   "metadata": {},
   "outputs": [],
   "source": [
    "from sign_language_conversion.constants import *\n",
    "from sign_language_conversion.utils.common import read_yaml, create_directories"
   ]
  },
  {
   "cell_type": "code",
   "execution_count": 7,
   "metadata": {},
   "outputs": [],
   "source": [
    "class ConfigurationManager:\n",
    "    def __init__(self, config_filepath=CONFIG_FILE_PATH, params_filepath=PARAMS_FILE_PATH):\n",
    "        self.config = read_yaml(config_filepath)\n",
    "        self.params = read_yaml(params_filepath)\n",
    "\n",
    "        create_directories([self.config['artifacts_root']])\n",
    "\n",
    "    def get_data_config(self) -> DataPickle:\n",
    "        config = self.config\n",
    "        create_directories([config['data_pickle']['root_dir']])\n",
    "\n",
    "        # Check if 'no_of_classes' exists in params\n",
    "        if 'no_of_classes' not in self.params:\n",
    "            raise KeyError(\"The key 'no_of_classes' is missing from params file.\")\n",
    "\n",
    "        data_pickle_config = DataPickle(\n",
    "            root_dir=config['data_pickle']['root_dir'],\n",
    "            data_raw=config['data_creation']['raw_dataset'],\n",
    "            data_pickle=config['data_pickle']['pickle_dataset']\n",
    "        )\n",
    "        return data_pickle_config\n"
   ]
  },
  {
   "cell_type": "code",
   "execution_count": 8,
   "metadata": {},
   "outputs": [],
   "source": [
    "import os\n",
    "import cv2\n",
    "import pickle\n",
    "import mediapipe as mp"
   ]
  },
  {
   "cell_type": "code",
   "execution_count": 19,
   "metadata": {},
   "outputs": [],
   "source": [
    "class DataFetcher:\n",
    "    def __init__(self, config:DataPickle):\n",
    "        self.config = config\n",
    "    \n",
    "    def datapick(self):\n",
    "        try: \n",
    "            mp_hands = mp.solutions.hands\n",
    "            hands = mp_hands.Hands(static_image_mode=True, min_detection_confidence=0.3)\n",
    "\n",
    "            data = []\n",
    "            labels = []\n",
    "            for dir_ in os.listdir(self.config.data_raw):\n",
    "                for img_path in os.listdir(os.path.join(self.config.data_raw, dir_)):\n",
    "                    data_aux = []\n",
    "                    x_ = []\n",
    "                    y_ = []\n",
    "\n",
    "                    img = cv2.imread(os.path.join(self.config.data_raw, dir_, img_path))\n",
    "                    img_rgb = cv2.cvtColor(img, cv2.COLOR_BGR2RGB)\n",
    "                    results = hands.process(img_rgb)\n",
    "\n",
    "                    if results.multi_hand_landmarks:\n",
    "                        for hand_landmarks in results.multi_hand_landmarks:\n",
    "                            for i in range(len(hand_landmarks.landmark)):\n",
    "                                x = hand_landmarks.landmark[i].x\n",
    "                                y = hand_landmarks.landmark[i].y\n",
    "                                x_.append(x)\n",
    "                                y_.append(y)\n",
    "\n",
    "                            for i in range(len(hand_landmarks.landmark)):\n",
    "                                x = hand_landmarks.landmark[i].x\n",
    "                                y = hand_landmarks.landmark[i].y\n",
    "                                data_aux.append(x - min(x_))\n",
    "                                data_aux.append(y - min(y_))\n",
    "\n",
    "                        data.append(data_aux)\n",
    "                        labels.append(dir_)\n",
    "\n",
    "            with open(self.config.data_pickle, 'wb') as f:\n",
    "                pickle.dump({'data': data, 'labels': labels}, f)\n",
    "\n",
    "            return 'data.pickle'\n",
    "\n",
    "        except Exception as e:\n",
    "            raise e"
   ]
  },
  {
   "cell_type": "code",
   "execution_count": 20,
   "metadata": {},
   "outputs": [
    {
     "name": "stdout",
     "output_type": "stream",
     "text": [
      "[2024-06-03 15:17:25,910: INFO: common: yaml file: config\\config.yaml loaded successfully]\n",
      "[2024-06-03 15:17:25,912: INFO: common: yaml file: params.yaml loaded successfully]\n",
      "[2024-06-03 15:17:25,913: INFO: common: created directory at: artifacts]\n",
      "[2024-06-03 15:17:25,914: INFO: common: created directory at: artifacts/data_pickle]\n"
     ]
    },
    {
     "name": "stderr",
     "output_type": "stream",
     "text": [
      "d:\\sign_language_conversion\\.venv\\Lib\\site-packages\\google\\protobuf\\symbol_database.py:55: UserWarning: SymbolDatabase.GetPrototype() is deprecated. Please use message_factory.GetMessageClass() instead. SymbolDatabase.GetPrototype() will be removed soon.\n",
      "  warnings.warn('SymbolDatabase.GetPrototype() is deprecated. Please '\n"
     ]
    }
   ],
   "source": [
    "try:\n",
    "    config = ConfigurationManager()\n",
    "    data_pickle_config = config.get_data_config()\n",
    "    data_creator = DataFetcher(config=data_pickle_config)\n",
    "    data_creator.datapick()\n",
    "except Exception as e:\n",
    "    raise e"
   ]
  },
  {
   "cell_type": "code",
   "execution_count": null,
   "metadata": {},
   "outputs": [],
   "source": []
  }
 ],
 "metadata": {
  "kernelspec": {
   "display_name": ".venv",
   "language": "python",
   "name": "python3"
  },
  "language_info": {
   "codemirror_mode": {
    "name": "ipython",
    "version": 3
   },
   "file_extension": ".py",
   "mimetype": "text/x-python",
   "name": "python",
   "nbconvert_exporter": "python",
   "pygments_lexer": "ipython3",
   "version": "3.12.3"
  }
 },
 "nbformat": 4,
 "nbformat_minor": 2
}
