{
 "cells": [
  {
   "cell_type": "code",
   "execution_count": 1,
   "metadata": {},
   "outputs": [
    {
     "data": {
      "text/plain": [
       "'d:\\\\sign_language_conversion\\\\research'"
      ]
     },
     "execution_count": 1,
     "metadata": {},
     "output_type": "execute_result"
    }
   ],
   "source": [
    "%pwd"
   ]
  },
  {
   "cell_type": "code",
   "execution_count": 2,
   "metadata": {},
   "outputs": [],
   "source": [
    "import os\n",
    "os.chdir(\"../\")"
   ]
  },
  {
   "cell_type": "code",
   "execution_count": 3,
   "metadata": {},
   "outputs": [
    {
     "data": {
      "text/plain": [
       "'d:\\\\sign_language_conversion'"
      ]
     },
     "execution_count": 3,
     "metadata": {},
     "output_type": "execute_result"
    }
   ],
   "source": [
    "%pwd"
   ]
  },
  {
   "cell_type": "code",
   "execution_count": 4,
   "metadata": {},
   "outputs": [],
   "source": [
    "from dataclasses import dataclass\n",
    "from pathlib import Path\n",
    "\n",
    "@dataclass(frozen=True)\n",
    "class TrainingConfig:\n",
    "    root_dir: Path\n",
    "    trained_model_path: Path\n",
    "    dataset_path: Path\n",
    "    n_estimators: int"
   ]
  },
  {
   "cell_type": "code",
   "execution_count": 5,
   "metadata": {},
   "outputs": [],
   "source": [
    "from sign_language_conversion.constants import *\n",
    "from sign_language_conversion.utils.common import read_yaml, create_directories"
   ]
  },
  {
   "cell_type": "code",
   "execution_count": 16,
   "metadata": {},
   "outputs": [],
   "source": [
    "class ConfigurationManager:\n",
    "    def __init__(self,\n",
    "                 config_filepath=CONFIG_FILE_PATH,\n",
    "                 params_filepath=PARAMS_FILE_PATH):\n",
    "        self.config = read_yaml(config_filepath)\n",
    "        self.params = read_yaml(params_filepath)\n",
    "        create_directories([self.config.artifacts_root])\n",
    "\n",
    "    def get_training_config(self) -> TrainingConfig:\n",
    "        training = self.config['training']\n",
    "        params = self.params\n",
    "        dataset_path = os.path.join(self.config.data_ingestion.root_dir, \"data.pickle\")\n",
    "        create_directories([Path(training['root_dir'])])\n",
    "        training_config = TrainingConfig(\n",
    "            root_dir=Path(training['root_dir']),\n",
    "            trained_model_path=Path(training['trained_model_path']),\n",
    "            dataset_path=Path(dataset_path),\n",
    "            n_estimators=params['n_estimators']\n",
    "        )\n",
    "        return training_config"
   ]
  },
  {
   "cell_type": "code",
   "execution_count": 17,
   "metadata": {},
   "outputs": [],
   "source": [
    "import pickle\n",
    "from sklearn.ensemble import RandomForestClassifier\n",
    "from sklearn.model_selection import train_test_split\n",
    "from sklearn.metrics import accuracy_score\n",
    "import numpy as np"
   ]
  },
  {
   "cell_type": "code",
   "execution_count": 18,
   "metadata": {},
   "outputs": [],
   "source": [
    "class Training:\n",
    "    def __init__(self, config: TrainingConfig):\n",
    "        self.config = config\n",
    "        self.model = RandomForestClassifier(\n",
    "            n_estimators=config.n_estimators\n",
    "        )\n",
    "\n",
    "    def train(self):\n",
    "        data_path = Path(self.config.dataset_path)\n",
    "        with open(data_path, 'rb') as f:\n",
    "            data_dict = pickle.load(f)\n",
    "\n",
    "        data = np.asarray(data_dict['data'])\n",
    "        labels = np.asarray(data_dict['labels'])\n",
    "\n",
    "        # Check if the number of samples is sufficient for splitting\n",
    "        if len(data) == 0 or len(labels) == 0:\n",
    "            print(\"Error: Insufficient data for splitting.\")\n",
    "            return\n",
    "\n",
    "        x_train, x_test, y_train, y_test = train_test_split(\n",
    "            data, labels, test_size=0.2, shuffle=True, stratify=labels)\n",
    "\n",
    "        # Check if the resulting train set will be empty\n",
    "        if len(x_train) == 0 or len(y_train) == 0:\n",
    "            print(\"Error: Insufficient data for training.\")\n",
    "            return\n",
    "\n",
    "        self.model.fit(x_train, y_train)\n",
    "\n",
    "        y_predict = self.model.predict(x_test)\n",
    "        score = accuracy_score(y_test, y_predict)\n",
    "\n",
    "        print(f'{score * 100:.2f}% of samples were classified correctly!')\n",
    "\n",
    "        model_save_path = Path('model1.p')\n",
    "        with open(model_save_path, 'wb') as f:\n",
    "            pickle.dump({'model': self.model}, f)\n",
    "\n",
    "        self.save_model(\n",
    "            path=self.config.trained_model_path,\n",
    "            model=self.model\n",
    "        )\n",
    "\n",
    "    def save_model(self, path: Path, model: RandomForestClassifier):\n",
    "        with open(path, 'wb') as f:\n",
    "            pickle.dump(model, f)"
   ]
  },
  {
   "cell_type": "code",
   "execution_count": 19,
   "metadata": {},
   "outputs": [
    {
     "name": "stdout",
     "output_type": "stream",
     "text": [
      "[2024-05-25 21:02:30,919: INFO: common: yaml file: config\\config.yaml loaded successfully]\n",
      "[2024-05-25 21:02:30,924: INFO: common: yaml file: params.yaml loaded successfully]\n",
      "[2024-05-25 21:02:30,926: INFO: common: created directory at: artifacts]\n",
      "[2024-05-25 21:02:30,928: INFO: common: created directory at: artifacts\\training]\n",
      "100.00% of samples were classified correctly!\n"
     ]
    }
   ],
   "source": [
    "try:\n",
    "    config_manager = ConfigurationManager()\n",
    "    training_config = config_manager.get_training_config()\n",
    "    trainer = Training(config=training_config)\n",
    "    trainer.train()\n",
    "except Exception as e:\n",
    "    raise e"
   ]
  }
 ],
 "metadata": {
  "kernelspec": {
   "display_name": ".venv",
   "language": "python",
   "name": "python3"
  },
  "language_info": {
   "codemirror_mode": {
    "name": "ipython",
    "version": 3
   },
   "file_extension": ".py",
   "mimetype": "text/x-python",
   "name": "python",
   "nbconvert_exporter": "python",
   "pygments_lexer": "ipython3",
   "version": "3.11.9"
  }
 },
 "nbformat": 4,
 "nbformat_minor": 2
}
