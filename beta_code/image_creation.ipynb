{
 "cells": [
  {
   "cell_type": "code",
   "execution_count": 1,
   "metadata": {},
   "outputs": [],
   "source": [
    "import os\n",
    "import cv2"
   ]
  },
  {
   "cell_type": "code",
   "execution_count": 2,
   "metadata": {},
   "outputs": [
    {
     "name": "stdout",
     "output_type": "stream",
     "text": [
      "Collecting data for class 0\n",
      "Collecting data for class 1\n",
      "Collecting data for class 2\n"
     ]
    }
   ],
   "source": [
    "# Define constants\n",
    "DATA_DIR = './data'\n",
    "number_of_classes = 3\n",
    "dataset_size = 50\n",
    "\n",
    "# Ensure data directory exists\n",
    "if not os.path.exists(DATA_DIR):\n",
    "    os.makedirs(DATA_DIR)\n",
    "\n",
    "# Function to find a working camera index\n",
    "def find_working_camera_index():\n",
    "    for index in range(5):\n",
    "        cap = cv2.VideoCapture(index)\n",
    "        if cap.isOpened():\n",
    "            cap.release()\n",
    "            return index\n",
    "    return None\n",
    "\n",
    "# Find a working camera index\n",
    "camera_index = find_working_camera_index()\n",
    "if camera_index is None:\n",
    "    print(\"Error: Could not find a working camera.\")\n",
    "else:\n",
    "    cap = cv2.VideoCapture(camera_index)\n",
    "    if not cap.isOpened():\n",
    "        print(\"Error: Could not open video device.\")\n",
    "    else:\n",
    "        for j in range(number_of_classes):\n",
    "            class_dir = os.path.join(DATA_DIR, str(j))\n",
    "            if not os.path.exists(class_dir):\n",
    "                os.makedirs(class_dir)\n",
    "\n",
    "            print('Collecting data for class {}'.format(j))\n",
    "\n",
    "            # Wait for user to be ready\n",
    "            while True:\n",
    "                ret, frame = cap.read()\n",
    "                if not ret:\n",
    "                    print(\"Error: Failed to capture image.\")\n",
    "                    break\n",
    "\n",
    "                cv2.putText(frame, 'Ready? Press \"Q\" ! :)', (100, 50), cv2.FONT_HERSHEY_SIMPLEX, 1.3, (0, 255, 0), 3, cv2.LINE_AA)\n",
    "                cv2.imshow('frame', frame)\n",
    "                if cv2.waitKey(25) == ord('q'):\n",
    "                    break\n",
    "\n",
    "            # Capture dataset images\n",
    "            counter = 0\n",
    "            while counter < dataset_size:\n",
    "                ret, frame = cap.read()\n",
    "                if not ret:\n",
    "                    print(\"Error: Failed to capture image.\")\n",
    "                    break\n",
    "\n",
    "                cv2.imshow('frame', frame)\n",
    "                cv2.waitKey(20)\n",
    "                cv2.imwrite(os.path.join(class_dir, '{}.jpg'.format(counter)), frame)\n",
    "                counter += 1\n",
    "        cap.release()\n",
    "        cv2.destroyAllWindows()\n",
    "        cv2.waitKey(5)"
   ]
  }
 ],
 "metadata": {
  "kernelspec": {
   "display_name": "Python 3",
   "language": "python",
   "name": "python3"
  },
  "language_info": {
   "codemirror_mode": {
    "name": "ipython",
    "version": 3
   },
   "file_extension": ".py",
   "mimetype": "text/x-python",
   "name": "python",
   "nbconvert_exporter": "python",
   "pygments_lexer": "ipython3",
   "version": "3.11.9"
  }
 },
 "nbformat": 4,
 "nbformat_minor": 2
}
